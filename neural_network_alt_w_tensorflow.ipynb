{
 "cells": [
  {
   "cell_type": "markdown",
   "metadata": {},
   "source": [
    "In this version of the program, we use the other npz file generated and feed them into the model"
   ]
  },
  {
   "cell_type": "markdown",
   "metadata": {},
   "source": [
    "### Import the relevant libraries"
   ]
  },
  {
   "cell_type": "code",
   "execution_count": 78,
   "metadata": {},
   "outputs": [],
   "source": [
    "import numpy as np\n",
    "import tensorflow as tf"
   ]
  },
  {
   "cell_type": "markdown",
   "metadata": {},
   "source": [
    "### Load the data"
   ]
  },
  {
   "cell_type": "code",
   "execution_count": 79,
   "metadata": {},
   "outputs": [],
   "source": [
    "# Since we split the training, test and validation data into three files, we load them separately and cast them\n",
    "# to the required types\n",
    "extract = np.load('audiobooks_training_data_alt.npz')\n",
    "train_inputs = extract['inputs'].astype(np.float)\n",
    "train_targets = extract['targets'].astype(np.int)\n",
    "\n",
    "# We do the same for our validation and test data\n",
    "extract = np.load('audiobooks_validation_data_alt.npz')\n",
    "validation_inputs = extract['inputs'].astype(np.float)\n",
    "validation_targets = extract['targets'].astype(np.int)\n",
    "\n",
    "extract = np.load('audiobooks_test_data_alt.npz')\n",
    "test_inputs = extract['inputs'].astype(np.float)\n",
    "test_targets = extract['targets'].astype(np.int)"
   ]
  },
  {
   "cell_type": "markdown",
   "metadata": {},
   "source": [
    "### Build the model"
   ]
  },
  {
   "cell_type": "code",
   "execution_count": 80,
   "metadata": {},
   "outputs": [],
   "source": [
    "# First, we define the hyperparameters\n",
    "\n",
    "input_size = 10\n",
    "hidden_layer_size = 50\n",
    "output_size = 2\n",
    "\n",
    "model = tf.keras.Sequential([\n",
    "    tf.keras.layers.Dense(hidden_layer_size, activation='relu'),\n",
    "    tf.keras.layers.Dense(hidden_layer_size, activation='relu'),\n",
    "    tf.keras.layers.Dense(output_size, activation='softmax')\n",
    "])"
   ]
  },
  {
   "cell_type": "code",
   "execution_count": 81,
   "metadata": {},
   "outputs": [],
   "source": [
    "model.compile(optimizer='Adam', loss='sparse_categorical_crossentropy', metrics=['accuracy'])"
   ]
  },
  {
   "cell_type": "markdown",
   "metadata": {},
   "source": [
    "### Training"
   ]
  },
  {
   "cell_type": "code",
   "execution_count": 82,
   "metadata": {},
   "outputs": [
    {
     "name": "stdout",
     "output_type": "stream",
     "text": [
      "Train on 3579 samples, validate on 447 samples\n",
      "Epoch 1/100\n",
      "3579/3579 - 0s - loss: 0.6488 - accuracy: 0.6063 - val_loss: 0.5970 - val_accuracy: 0.7025\n",
      "Epoch 2/100\n",
      "3579/3579 - 0s - loss: 0.5813 - accuracy: 0.7307 - val_loss: 0.5497 - val_accuracy: 0.7562\n",
      "Epoch 3/100\n",
      "3579/3579 - 0s - loss: 0.5362 - accuracy: 0.7488 - val_loss: 0.5115 - val_accuracy: 0.7651\n",
      "Epoch 4/100\n",
      "3579/3579 - 0s - loss: 0.5018 - accuracy: 0.7597 - val_loss: 0.4821 - val_accuracy: 0.7852\n",
      "Epoch 5/100\n",
      "3579/3579 - 0s - loss: 0.4770 - accuracy: 0.7703 - val_loss: 0.4590 - val_accuracy: 0.7919\n",
      "Epoch 6/100\n",
      "3579/3579 - 0s - loss: 0.4572 - accuracy: 0.7748 - val_loss: 0.4402 - val_accuracy: 0.7785\n",
      "Epoch 7/100\n",
      "3579/3579 - 0s - loss: 0.4421 - accuracy: 0.7815 - val_loss: 0.4253 - val_accuracy: 0.7942\n",
      "Epoch 8/100\n",
      "3579/3579 - 0s - loss: 0.4295 - accuracy: 0.7851 - val_loss: 0.4130 - val_accuracy: 0.7785\n",
      "Epoch 9/100\n",
      "3579/3579 - 0s - loss: 0.4193 - accuracy: 0.7913 - val_loss: 0.4045 - val_accuracy: 0.8009\n",
      "Epoch 10/100\n",
      "3579/3579 - 0s - loss: 0.4102 - accuracy: 0.7930 - val_loss: 0.3958 - val_accuracy: 0.8031\n",
      "Epoch 11/100\n",
      "3579/3579 - 0s - loss: 0.4030 - accuracy: 0.7977 - val_loss: 0.3894 - val_accuracy: 0.8076\n",
      "Epoch 12/100\n",
      "3579/3579 - 0s - loss: 0.3970 - accuracy: 0.7988 - val_loss: 0.3835 - val_accuracy: 0.7987\n",
      "Epoch 13/100\n",
      "3579/3579 - 0s - loss: 0.3919 - accuracy: 0.7972 - val_loss: 0.3780 - val_accuracy: 0.8031\n",
      "Epoch 14/100\n",
      "3579/3579 - 0s - loss: 0.3878 - accuracy: 0.8030 - val_loss: 0.3734 - val_accuracy: 0.8076\n",
      "Epoch 15/100\n",
      "3579/3579 - 0s - loss: 0.3849 - accuracy: 0.8041 - val_loss: 0.3687 - val_accuracy: 0.8188\n",
      "Epoch 16/100\n",
      "3579/3579 - 0s - loss: 0.3804 - accuracy: 0.8061 - val_loss: 0.3658 - val_accuracy: 0.8188\n",
      "Epoch 17/100\n",
      "3579/3579 - 0s - loss: 0.3764 - accuracy: 0.8080 - val_loss: 0.3630 - val_accuracy: 0.8076\n",
      "Epoch 18/100\n",
      "3579/3579 - 0s - loss: 0.3747 - accuracy: 0.8050 - val_loss: 0.3596 - val_accuracy: 0.8188\n",
      "Epoch 19/100\n",
      "3579/3579 - 0s - loss: 0.3720 - accuracy: 0.8075 - val_loss: 0.3573 - val_accuracy: 0.8233\n",
      "Epoch 20/100\n",
      "3579/3579 - 0s - loss: 0.3694 - accuracy: 0.8086 - val_loss: 0.3550 - val_accuracy: 0.8210\n",
      "Epoch 21/100\n",
      "3579/3579 - 0s - loss: 0.3690 - accuracy: 0.8030 - val_loss: 0.3540 - val_accuracy: 0.8188\n",
      "Epoch 22/100\n",
      "3579/3579 - 0s - loss: 0.3673 - accuracy: 0.8075 - val_loss: 0.3520 - val_accuracy: 0.8233\n",
      "Epoch 23/100\n",
      "3579/3579 - 0s - loss: 0.3649 - accuracy: 0.8145 - val_loss: 0.3494 - val_accuracy: 0.8233\n",
      "Epoch 24/100\n",
      "3579/3579 - 0s - loss: 0.3637 - accuracy: 0.8136 - val_loss: 0.3473 - val_accuracy: 0.8255\n",
      "Epoch 25/100\n",
      "3579/3579 - 0s - loss: 0.3617 - accuracy: 0.8097 - val_loss: 0.3479 - val_accuracy: 0.8277\n",
      "Epoch 26/100\n",
      "3579/3579 - 0s - loss: 0.3600 - accuracy: 0.8114 - val_loss: 0.3464 - val_accuracy: 0.8277\n",
      "Epoch 27/100\n",
      "3579/3579 - 0s - loss: 0.3593 - accuracy: 0.8122 - val_loss: 0.3438 - val_accuracy: 0.8322\n",
      "Epoch 28/100\n",
      "3579/3579 - 0s - loss: 0.3583 - accuracy: 0.8117 - val_loss: 0.3427 - val_accuracy: 0.8322\n",
      "Epoch 29/100\n",
      "3579/3579 - 0s - loss: 0.3568 - accuracy: 0.8108 - val_loss: 0.3411 - val_accuracy: 0.8345\n",
      "Epoch 30/100\n",
      "3579/3579 - 0s - loss: 0.3557 - accuracy: 0.8100 - val_loss: 0.3398 - val_accuracy: 0.8277\n",
      "Epoch 31/100\n",
      "3579/3579 - 0s - loss: 0.3559 - accuracy: 0.8106 - val_loss: 0.3390 - val_accuracy: 0.8255\n",
      "Epoch 32/100\n",
      "3579/3579 - 0s - loss: 0.3586 - accuracy: 0.8022 - val_loss: 0.3410 - val_accuracy: 0.8389\n",
      "Epoch 33/100\n",
      "3579/3579 - 0s - loss: 0.3543 - accuracy: 0.8117 - val_loss: 0.3368 - val_accuracy: 0.8300\n",
      "Epoch 34/100\n",
      "3579/3579 - 0s - loss: 0.3531 - accuracy: 0.8156 - val_loss: 0.3358 - val_accuracy: 0.8322\n",
      "Epoch 35/100\n",
      "3579/3579 - 0s - loss: 0.3514 - accuracy: 0.8150 - val_loss: 0.3363 - val_accuracy: 0.8345\n",
      "Epoch 36/100\n",
      "3579/3579 - 0s - loss: 0.3504 - accuracy: 0.8148 - val_loss: 0.3345 - val_accuracy: 0.8412\n",
      "Epoch 37/100\n",
      "3579/3579 - 0s - loss: 0.3501 - accuracy: 0.8164 - val_loss: 0.3350 - val_accuracy: 0.8456\n",
      "Epoch 38/100\n",
      "3579/3579 - 0s - loss: 0.3490 - accuracy: 0.8184 - val_loss: 0.3342 - val_accuracy: 0.8389\n",
      "Epoch 39/100\n",
      "3579/3579 - 0s - loss: 0.3494 - accuracy: 0.8175 - val_loss: 0.3338 - val_accuracy: 0.8412\n",
      "Epoch 40/100\n",
      "3579/3579 - 0s - loss: 0.3488 - accuracy: 0.8173 - val_loss: 0.3324 - val_accuracy: 0.8389\n",
      "Epoch 41/100\n",
      "3579/3579 - 0s - loss: 0.3484 - accuracy: 0.8198 - val_loss: 0.3319 - val_accuracy: 0.8367\n",
      "Epoch 42/100\n",
      "3579/3579 - 0s - loss: 0.3492 - accuracy: 0.8167 - val_loss: 0.3311 - val_accuracy: 0.8412\n",
      "Epoch 43/100\n",
      "3579/3579 - 0s - loss: 0.3486 - accuracy: 0.8173 - val_loss: 0.3306 - val_accuracy: 0.8367\n",
      "Epoch 44/100\n",
      "3579/3579 - 0s - loss: 0.3475 - accuracy: 0.8164 - val_loss: 0.3308 - val_accuracy: 0.8412\n",
      "Epoch 45/100\n",
      "3579/3579 - 0s - loss: 0.3495 - accuracy: 0.8150 - val_loss: 0.3287 - val_accuracy: 0.8523\n",
      "Epoch 46/100\n",
      "3579/3579 - 0s - loss: 0.3473 - accuracy: 0.8170 - val_loss: 0.3276 - val_accuracy: 0.8456\n",
      "Epoch 47/100\n",
      "3579/3579 - 0s - loss: 0.3443 - accuracy: 0.8170 - val_loss: 0.3278 - val_accuracy: 0.8523\n",
      "Epoch 48/100\n",
      "3579/3579 - 0s - loss: 0.3427 - accuracy: 0.8220 - val_loss: 0.3283 - val_accuracy: 0.8479\n"
     ]
    },
    {
     "data": {
      "text/plain": [
       "<tensorflow.python.keras.callbacks.History at 0x13b355208>"
      ]
     },
     "execution_count": 82,
     "metadata": {},
     "output_type": "execute_result"
    }
   ],
   "source": [
    "# Using the same number of epochs anc batch size in the other program we obtain a validation accuracy of 77%. To \n",
    "# improve this further, we tweak the batch size and number of epochs\n",
    "\n",
    "BATCH_SIZE = 500\n",
    "NUM_EPOCHS = 100\n",
    "early_stopping = tf.keras.callbacks.EarlyStopping(patience=2)\n",
    "\n",
    "model.fit(train_inputs,train_targets,epochs=NUM_EPOCHS, batch_size=BATCH_SIZE, callbacks=[early_stopping],\n",
    "         validation_data=(validation_inputs,validation_targets), validation_steps=1, verbose=2)"
   ]
  },
  {
   "cell_type": "markdown",
   "metadata": {},
   "source": [
    "### Testing the Model"
   ]
  },
  {
   "cell_type": "code",
   "execution_count": 83,
   "metadata": {},
   "outputs": [
    {
     "name": "stdout",
     "output_type": "stream",
     "text": [
      "448/448 [==============================] - 0s 230us/sample - loss: 0.3642 - accuracy: 0.8147\n",
      "Test loss: 0.36 Test accuracy: 81.47%\n"
     ]
    }
   ],
   "source": [
    "test_loss, test_accuracy = model.evaluate(test_inputs,test_targets)\n",
    "\n",
    "print(\"Test loss: {0:.2f} Test accuracy: {1:.2f}%\".format(test_loss,test_accuracy*100.0))"
   ]
  },
  {
   "cell_type": "code",
   "execution_count": null,
   "metadata": {},
   "outputs": [],
   "source": []
  }
 ],
 "metadata": {
  "kernelspec": {
   "display_name": "Python 3",
   "language": "python",
   "name": "python3"
  },
  "language_info": {
   "codemirror_mode": {
    "name": "ipython",
    "version": 3
   },
   "file_extension": ".py",
   "mimetype": "text/x-python",
   "name": "python",
   "nbconvert_exporter": "python",
   "pygments_lexer": "ipython3",
   "version": "3.7.3"
  }
 },
 "nbformat": 4,
 "nbformat_minor": 2
}
